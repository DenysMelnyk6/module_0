{
 "cells": [
  {
   "cell_type": "code",
   "execution_count": 1,
   "metadata": {},
   "outputs": [
    {
     "name": "stdout",
     "output_type": "stream",
     "text": [
      "Загадано число от 1 до 100\n",
      "Ваш алгоритм угадывает число в среднем за 5 попыток\n"
     ]
    },
    {
     "data": {
      "text/plain": [
       "5"
      ]
     },
     "execution_count": 1,
     "metadata": {},
     "output_type": "execute_result"
    }
   ],
   "source": [
    "import numpy as np\n",
    "guess_attempt = 0  \n",
    "number = np.random.randint(1, 101) # заменить number \n",
    "print (\"Загадано число от 1 до 100\")\n",
    "\n",
    "\n",
    "def game_core_random(number):\n",
    "    '''Функция случайным образом выбирает число, пока не угадает загаданное число.\n",
    "       Функция принимает загаданное число и возвращает число попыток'''\n",
    "    guess_attempt = 0\n",
    "    while True:\n",
    "        guess_attempt += 1\n",
    "        predict = np.random.randint(1, 101)\n",
    "        if number==predict: \n",
    "            return(guess_attempt)\n",
    "        \n",
    "def game_core_random_comparing(number):\n",
    "    '''Фунция выбирает случайное число, после чего сверяет его с загаданным.\n",
    "       \n",
    "       Если случайное число меньше загаданного, добавляет 1,\n",
    "       пока не достигнет значения загаданного числа.\n",
    "       Если случайное число больше загаданного, вычитает 1, \n",
    "       пока не достигнет значения загаданного числа.\n",
    "       \n",
    "       Функция принимает загаданное число и возвращает число попыток'''\n",
    "    guess_attempt = 1\n",
    "    predict = np.random.randint(1,101)\n",
    "    while number!=predict:\n",
    "        guess_attempt+=1        \n",
    "        if number > predict: \n",
    "            predict += 1\n",
    "        elif number < predict: \n",
    "            predict -= 1\n",
    "            \n",
    "    return(guess_attempt)\n",
    "\n",
    "def game_core_interval(number):\n",
    "    '''Функция задает верхний и нижний интервал,\n",
    "       находит их среднее арифметическое и сравнивает его с загаданным числом.\n",
    "       \n",
    "    Если среднее арифметическое меньше загаданного, \n",
    "    то среднее арифметическое становится новой нижней границей, если больше - верхней.\n",
    "    Функция принимает загаданное число и возвращает число попыток.'''\n",
    "    guess_attempt = 1\n",
    "    lower_boundary = 1\n",
    "    upper_boundary = 100\n",
    "    mean = int((lower_boundary+upper_boundary) / 2)\n",
    "    while mean!=number:\n",
    "        guess_attempt += 1\n",
    "        if mean==99 and mean!=number: # из-за особенностей округления этот случай является исключением\n",
    "            mean = 100\n",
    "        elif mean<number:\n",
    "            lower_boundary = mean\n",
    "            mean = int((lower_boundary+upper_boundary) / 2)\n",
    "        elif mean>number:\n",
    "            upper_boundary = mean\n",
    "            mean = int((lower_boundary+upper_boundary) / 2)\n",
    "    return(guess_attempt)\n",
    "\n",
    "def game_core_step_10(number):\n",
    "    '''Алгоритм совершает шаг в 10 начиная с 1, сравнивая значение с загаданным числом.\n",
    "    Если значение меньше загаданного числа, шаг в 10 повтряется. Если значение меньше, \n",
    "    алгоритм совершает шаг в -1 пока не достигнет загаданного числа.\n",
    "    Функция принимает загаданное число и возвращает число попыток.'''\n",
    "    guess_attempt = 1\n",
    "    lower_boundary = 1\n",
    "    upper_boundary = 100\n",
    "    prediction = 1\n",
    "    while prediction!=number:\n",
    "        if prediction<number:\n",
    "            prediction += 10\n",
    "            guess_attempt += 1\n",
    "        elif prediction > number:\n",
    "            prediction -= 1\n",
    "            guess_attempt += 1\n",
    "    return(guess_attempt)\n",
    "\n",
    "def score_game(game_core):\n",
    "    '''Функция принимает функцию нахождения загаданного числа и выводит среднее количество попыток\n",
    "    на 1000 разных значений загаданного числа.'''\n",
    "    count_list = []\n",
    "    np.random.seed(1) \n",
    "    random_array = np.random.randint(1, 101, size=(1000))\n",
    "    for number in random_array:\n",
    "        count_list.append(game_core(number))\n",
    "    score = int(np.mean(count_list))\n",
    "    print(f\"Ваш алгоритм угадывает число в среднем за {score} попыток\")\n",
    "    return(score)\n",
    "\n",
    "game_cores = [game_core_random,game_core_random_comparing, game_core_interval, game_core_step_10]\n",
    "score_game(game_cores[2])"
   ]
  }
 ],
 "metadata": {
  "kernelspec": {
   "display_name": "Python 3",
   "language": "python",
   "name": "python3"
  },
  "language_info": {
   "codemirror_mode": {
    "name": "ipython",
    "version": 3
   },
   "file_extension": ".py",
   "mimetype": "text/x-python",
   "name": "python",
   "nbconvert_exporter": "python",
   "pygments_lexer": "ipython3",
   "version": "3.8.3"
  }
 },
 "nbformat": 4,
 "nbformat_minor": 4
}
