{
 "cells": [
  {
   "cell_type": "code",
   "execution_count": 2,
   "metadata": {},
   "outputs": [
    {
     "name": "stdout",
     "output_type": "stream",
     "text": [
      "Загадано число от 1 до 100\n",
      "Ваш алгоритм угадывает число в среднем за 5 попыток\n"
     ]
    },
    {
     "data": {
      "text/plain": [
       "5"
      ]
     },
     "execution_count": 2,
     "metadata": {},
     "output_type": "execute_result"
    }
   ],
   "source": [
    "import numpy as np\n",
    "guess_attempt = 0\n",
    "number = np.random.randint(1, 101)\n",
    "print (\"Загадано число от 1 до 100\")\n",
    "\n",
    "\n",
    "def game_core_interval(number):\n",
    "    '''Функция задает верхний и нижний интервал,\n",
    "       находит их среднее арифметическое и сравнивает его с загаданным числом.\n",
    "       Если среднее арифметическое меньше загаданного, то среднее\n",
    "        арифметическое становится новой нижней границей, если больше - верхней.\n",
    "       Если загаданное число равно 100, то из-за особенностей округления\n",
    "       среднее арифметическое зациклится в повтор,из-за чего данный случай\n",
    "       вынесен в исключения в начале проверки.\n",
    "       Функция принимает загаданное число и возвращает число попыток.'''\n",
    "    guess_attempt = 1\n",
    "    lower_boundary = 1\n",
    "    upper_boundary = 100\n",
    "    mean = int((lower_boundary+upper_boundary) / 2)\n",
    "    while mean != number:\n",
    "        guess_attempt += 1\n",
    "        if mean == 99 and mean != number:\n",
    "            mean = 100\n",
    "        elif mean < number:\n",
    "            lower_boundary = mean\n",
    "            mean = int((lower_boundary+upper_boundary) / 2)\n",
    "        elif mean > number:\n",
    "            upper_boundary = mean\n",
    "            mean = int((lower_boundary+upper_boundary) / 2)\n",
    "    return(guess_attempt)\n",
    "\n",
    "\n",
    "def score_game(game_core):\n",
    "    '''Функция принимает функцию нахождения загаданного числа и выводит среднее\n",
    "    количество попыток на 1000 разных значений загаданного числа.'''\n",
    "    count_list = []\n",
    "    np.random.seed(1)\n",
    "    random_array = np.random.randint(1, 101, size=(1000))\n",
    "    for number in random_array:\n",
    "        count_list.append(game_core(number))\n",
    "    score = int(np.mean(count_list))\n",
    "    print(f\"Ваш алгоритм угадывает число в среднем за {score} попыток\")\n",
    "    return(score)\n",
    "\n",
    "\n",
    "score_game(game_core_interval)"
   ]
  }
 ],
 "metadata": {
  "kernelspec": {
   "display_name": "Python 3",
   "language": "python",
   "name": "python3"
  },
  "language_info": {
   "codemirror_mode": {
    "name": "ipython",
    "version": 3
   },
   "file_extension": ".py",
   "mimetype": "text/x-python",
   "name": "python",
   "nbconvert_exporter": "python",
   "pygments_lexer": "ipython3",
   "version": "3.8.3"
  }
 },
 "nbformat": 4,
 "nbformat_minor": 4
}
